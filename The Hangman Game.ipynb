{
 "cells": [
  {
   "cell_type": "code",
   "execution_count": null,
   "metadata": {
    "collapsed": true
   },
   "outputs": [],
   "source": [
    "import random"
   ]
  },
  {
   "cell_type": "code",
   "execution_count": 2,
   "metadata": {},
   "outputs": [
    {
     "name": "stdout",
     "output_type": "stream",
     "text": [
      "Name of the player : Shalaka\n",
      "Welcome ! Shalaka\n",
      "Let's play Hangman\n"
     ]
    }
   ],
   "source": [
    "name = input('Name of the player : ')\n",
    "print('Welcome ! '+name)\n",
    "print(\"Let's play Hangman\")"
   ]
  },
  {
   "cell_type": "code",
   "execution_count": 3,
   "metadata": {
    "collapsed": true
   },
   "outputs": [],
   "source": [
    "def display_hangman(failed) :\n",
    "    print('     _________  ')\n",
    "    print('    |    '+(' |' if failed > 0 else ''))\n",
    "    print('    |    '+(' O' if failed > 1 else ''))\n",
    "    print('    |    '+(' |' if failed > 2 else ''))\n",
    "    print('    |    '+('\\|/ ' if failed > 3 else ''))\n",
    "    print('    |     '+('|' if failed > 4 else ''))\n",
    "    print('    |     '+('|' if failed > 5 else ''))\n",
    "    print('    |    '+('/ \\\\' if failed > 6 else ''))\n",
    "    print('____|_________')\n",
    "        "
   ]
  },
  {
   "cell_type": "code",
   "execution_count": 6,
   "metadata": {},
   "outputs": [
    {
     "name": "stdout",
     "output_type": "stream",
     "text": [
      "     _________  \n",
      "    |     |\n",
      "    |     O\n",
      "    |    \n",
      "    |    \n",
      "    |     \n",
      "    |     \n",
      "    |    \n",
      "____|_________\n"
     ]
    }
   ],
   "source": [
    "display_hangman(2)"
   ]
  },
  {
   "cell_type": "code",
   "execution_count": null,
   "metadata": {},
   "outputs": [],
   "source": [
    "p = 0\n",
    "q = 0\n",
    "g = 0\n",
    "while q!=1 :\n",
    "    words = ['rainbow', 'computer', 'science', 'programming',  \n",
    "         'python', 'mathematics', 'player', 'condition',  \n",
    "         'reverse', 'water', 'board'] \n",
    "    \n",
    "    word = random.choice(words)\n",
    "    turns = 7\n",
    "    visited = [False]*26\n",
    "    failed = 0\n",
    "    guess_word = ['_']*len(word)\n",
    "    used_words = []\n",
    "    print(*guess_word)\n",
    "    flag = 0\n",
    "    while turns > 0 :\n",
    "        ch = input('Guess the word by entering character in lowercase : ')\n",
    "        if visited[ord(ch)-97]==True :\n",
    "            print('{} was already used'.format(ch))\n",
    "        else :\n",
    "            visited[ord(ch)-97] = True\n",
    "            if ch in word :\n",
    "                indices = [i for i, ltr in enumerate(word) if ltr == ch]\n",
    "                for index in indices :\n",
    "                    guess_word[index] = ch\n",
    "            else :\n",
    "                turns-=1\n",
    "                failed += 1\n",
    "            print()\n",
    "            print('You guess was wrong, You are left with {} turns'.format(turns))\n",
    "            used_words.append(ch)\n",
    "            print(*guess_word)\n",
    "            print()\n",
    "            display_hangman(failed)\n",
    "            print()\n",
    "            print('You have used the following letters till now :',*used_words)\n",
    "            print()\n",
    "        if \"\".join(guess_word)==word :\n",
    "            p += 1\n",
    "            print(\"Congratulations ! You won this round !\")\n",
    "            print()\n",
    "            break\n",
    "        if turns==0 and flag==0 :\n",
    "            print('You lost this round !')\n",
    "            print(\"The word was :\",word)\n",
    "            print()\n",
    "    g += 1\n",
    "    ques = int(input(\"Do you want to quit ? Say 0 for No and 1 for Yes : \"))\n",
    "    if ques==1 :\n",
    "        print('You have played {} '.format(g)+('games' if g > 1 else 'game'))\n",
    "        print('Your final score is : ',p)\n",
    "        print(\"Thank you for playing !\")\n",
    "        break\n",
    "    else :\n",
    "        print(\"Let's play one more round !\")\n",
    "        print()\n",
    "        continue"
   ]
  },
  {
   "cell_type": "code",
   "execution_count": null,
   "metadata": {
    "collapsed": true
   },
   "outputs": [],
   "source": []
  },
  {
   "cell_type": "code",
   "execution_count": null,
   "metadata": {
    "collapsed": true
   },
   "outputs": [],
   "source": []
  },
  {
   "cell_type": "code",
   "execution_count": null,
   "metadata": {
    "collapsed": true
   },
   "outputs": [],
   "source": []
  }
 ],
 "metadata": {
  "kernelspec": {
   "display_name": "Python 3",
   "language": "python",
   "name": "python3"
  },
  "language_info": {
   "codemirror_mode": {
    "name": "ipython",
    "version": 3
   },
   "file_extension": ".py",
   "mimetype": "text/x-python",
   "name": "python",
   "nbconvert_exporter": "python",
   "pygments_lexer": "ipython3",
   "version": "3.7.9"
  }
 },
 "nbformat": 4,
 "nbformat_minor": 2
}
